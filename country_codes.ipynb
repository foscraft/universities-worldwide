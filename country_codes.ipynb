{
 "cells": [
  {
   "cell_type": "code",
   "execution_count": 3,
   "metadata": {},
   "outputs": [
    {
     "data": {
      "text/plain": [
       "0    TW\n",
       "1    AF\n",
       "2    AL\n",
       "3    DZ\n",
       "4    AS\n",
       "Name: ISO3166-1-Alpha-2, dtype: object"
      ]
     },
     "execution_count": 3,
     "metadata": {},
     "output_type": "execute_result"
    }
   ],
   "source": [
    "import pandas as pd\n",
    "\n",
    "df = pd.read_csv(\"./country-codes.csv\", encoding='utf8')\n",
    "df_alpha = df['ISO3166-1-Alpha-2']\n",
    "df_alpha.head()"
   ]
  },
  {
   "cell_type": "code",
   "execution_count": 5,
   "metadata": {},
   "outputs": [
    {
     "data": {
      "text/plain": [
       "['TW', 'AF', 'AL', 'DZ', 'AS']"
      ]
     },
     "execution_count": 5,
     "metadata": {},
     "output_type": "execute_result"
    }
   ],
   "source": [
    "df_alpha.head().to_list()"
   ]
  },
  {
   "cell_type": "code",
   "execution_count": null,
   "metadata": {},
   "outputs": [],
   "source": [
    "import json\n",
    "\n",
    "with open('codes.json','w', encoding='utf8') as fileopen:\n",
    "    json.dump(df_alpha.to_list(),fileopen)"
   ]
  }
 ],
 "metadata": {
  "kernelspec": {
   "display_name": "universities-worldwide-WsvUl2bU",
   "language": "python",
   "name": "python3"
  },
  "language_info": {
   "codemirror_mode": {
    "name": "ipython",
    "version": 3
   },
   "file_extension": ".py",
   "mimetype": "text/x-python",
   "name": "python",
   "nbconvert_exporter": "python",
   "pygments_lexer": "ipython3",
   "version": "3.10.6"
  },
  "orig_nbformat": 4
 },
 "nbformat": 4,
 "nbformat_minor": 2
}
